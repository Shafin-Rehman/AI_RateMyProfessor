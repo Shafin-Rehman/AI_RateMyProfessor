{
 "cells": [
  {
   "cell_type": "code",
   "execution_count": 16,
   "metadata": {},
   "outputs": [],
   "source": [
    "from dotenv import load_dotenv\n",
    "load_dotenv()\n",
    "import os\n",
    "from openai import OpenAI\n",
    "from pinecone import Pinecone, ServerlessSpec"
   ]
  },
  {
   "cell_type": "code",
   "execution_count": 12,
   "metadata": {},
   "outputs": [],
   "source": [
    "pc = Pinecone (api_key=os.getenv(\"PINECONE_API_KEY\"))\n",
    "pc.create_index(\n",
    "    name=\"rag\", dimension=1536, metric=\"cosine\", spec=ServerlessSpec(cloud=\"aws\", region=\"us-east-1\")\n",
    ")"
   ]
  },
  {
   "cell_type": "code",
   "execution_count": 13,
   "metadata": {},
   "outputs": [
    {
     "data": {
      "text/plain": [
       "[{'Professor': 'Dr. Emily Chen',\n",
       "  'Subject': 'Physics',\n",
       "  'Stars': 4,\n",
       "  'Reviews': 'Excellent lecturer, makes complex topics accessible.'},\n",
       " {'Professor': 'Prof. Michael Rodriguez',\n",
       "  'Subject': 'Computer Science',\n",
       "  'Stars': 5,\n",
       "  'Reviews': 'Brilliant instructor, always willing to help outside of class.'},\n",
       " {'Professor': 'Dr. Sarah Johnson',\n",
       "  'Subject': 'Biology',\n",
       "  'Stars': 3,\n",
       "  'Reviews': 'Knowledgeable but lectures can be dry at times.'},\n",
       " {'Professor': 'Prof. David Lee',\n",
       "  'Subject': 'History',\n",
       "  'Stars': 5,\n",
       "  'Reviews': 'Passionate about the subject, brings history to life.'},\n",
       " {'Professor': 'Dr. Lisa Patel',\n",
       "  'Subject': 'Psychology',\n",
       "  'Stars': 4,\n",
       "  'Reviews': 'Engaging lectures and interesting assignments.'},\n",
       " {'Professor': 'Prof. Robert Smith',\n",
       "  'Subject': 'Mathematics',\n",
       "  'Stars': 2,\n",
       "  'Reviews': 'Difficult to follow, often moves too fast through material.'},\n",
       " {'Professor': 'Dr. Jennifer Brown',\n",
       "  'Subject': 'Chemistry',\n",
       "  'Stars': 5,\n",
       "  'Reviews': 'Clear explanations and helpful lab demonstrations.'},\n",
       " {'Professor': 'Prof. Thomas Wilson',\n",
       "  'Subject': 'English Literature',\n",
       "  'Stars': 4,\n",
       "  'Reviews': 'Insightful analysis of texts, encourages critical thinking.'},\n",
       " {'Professor': 'Dr. Amanda Taylor',\n",
       "  'Subject': 'Sociology',\n",
       "  'Stars': 3,\n",
       "  'Reviews': 'Interesting topics but could improve on classroom management.'},\n",
       " {'Professor': 'Prof. James Anderson',\n",
       "  'Subject': 'Economics',\n",
       "  'Stars': 5,\n",
       "  'Reviews': 'Makes economics relevant with real-world examples.'},\n",
       " {'Professor': 'Dr. Maria Garcia',\n",
       "  'Subject': 'Art History',\n",
       "  'Stars': 4,\n",
       "  'Reviews': 'Passionate about art, lectures are like virtual museum tours.'},\n",
       " {'Professor': 'Prof. Kevin Wright',\n",
       "  'Subject': 'Political Science',\n",
       "  'Stars': 3,\n",
       "  'Reviews': 'Knowledgeable but could be more objective in discussions.'},\n",
       " {'Professor': 'Dr. Rachel Kim',\n",
       "  'Subject': 'Neuroscience',\n",
       "  'Stars': 5,\n",
       "  'Reviews': 'Cutting-edge research incorporated into lessons, very inspiring.'},\n",
       " {'Professor': 'Prof. Daniel Brown',\n",
       "  'Subject': 'Philosophy',\n",
       "  'Stars': 4,\n",
       "  'Reviews': 'Challenges students to think deeply, great discussions.'},\n",
       " {'Professor': 'Dr. Laura Martinez',\n",
       "  'Subject': 'Environmental Science',\n",
       "  'Stars': 5,\n",
       "  'Reviews': 'Engaging field trips and practical applications of theories.'},\n",
       " {'Professor': 'Prof. Steven Clark',\n",
       "  'Subject': 'Business Administration',\n",
       "  'Stars': 2,\n",
       "  'Reviews': 'Seems disorganized, often unprepared for lectures.'},\n",
       " {'Professor': 'Dr. Olivia Watson',\n",
       "  'Subject': 'Linguistics',\n",
       "  'Stars': 4,\n",
       "  'Reviews': 'Fascinating subject matter, professor is clearly an expert.'},\n",
       " {'Professor': 'Prof. George Thompson',\n",
       "  'Subject': 'Mechanical Engineering',\n",
       "  'Stars': 3,\n",
       "  'Reviews': 'Tough grader but fair, prepare to work hard.'},\n",
       " {'Professor': 'Dr. Samantha Lee',\n",
       "  'Subject': 'Anthropology',\n",
       "  'Stars': 5,\n",
       "  'Reviews': 'Captivating storyteller, makes ancient cultures come alive.'},\n",
       " {'Professor': 'Prof. William Harris',\n",
       "  'Subject': 'Music Theory',\n",
       "  'Stars': 4,\n",
       "  'Reviews': 'Patient instructor, great at explaining complex concepts.'}]"
      ]
     },
     "execution_count": 13,
     "metadata": {},
     "output_type": "execute_result"
    }
   ],
   "source": [
    "import json\n",
    "data=json.load(open(\"reviews.json\"))\n",
    "data['reviews']"
   ]
  },
  {
   "cell_type": "code",
   "execution_count": 19,
   "metadata": {},
   "outputs": [
    {
     "ename": "KeyError",
     "evalue": "'review'",
     "output_type": "error",
     "traceback": [
      "\u001b[1;31m---------------------------------------------------------------------------\u001b[0m",
      "\u001b[1;31mKeyError\u001b[0m                                  Traceback (most recent call last)",
      "Cell \u001b[1;32mIn[19], line 6\u001b[0m\n\u001b[0;32m      2\u001b[0m client \u001b[38;5;241m=\u001b[39m OpenAI()\n\u001b[0;32m      4\u001b[0m \u001b[38;5;28;01mfor\u001b[39;00m review \u001b[38;5;129;01min\u001b[39;00m data[\u001b[38;5;124m'\u001b[39m\u001b[38;5;124mreviews\u001b[39m\u001b[38;5;124m'\u001b[39m]:\n\u001b[0;32m      5\u001b[0m     response \u001b[38;5;241m=\u001b[39m client\u001b[38;5;241m.\u001b[39membeddings\u001b[38;5;241m.\u001b[39mcreate(\n\u001b[1;32m----> 6\u001b[0m         \u001b[38;5;28minput\u001b[39m\u001b[38;5;241m=\u001b[39m \u001b[43mreview\u001b[49m\u001b[43m[\u001b[49m\u001b[38;5;124;43m'\u001b[39;49m\u001b[38;5;124;43mreview\u001b[39;49m\u001b[38;5;124;43m'\u001b[39;49m\u001b[43m]\u001b[49m,\n\u001b[0;32m      7\u001b[0m         model\u001b[38;5;241m=\u001b[39m \u001b[38;5;124m\"\u001b[39m\u001b[38;5;124mtext-embedding-3-small\u001b[39m\u001b[38;5;124m\"\u001b[39m\n\u001b[0;32m      8\u001b[0m     )\n\u001b[0;32m      9\u001b[0m     embedding\u001b[38;5;241m=\u001b[39mresponse\u001b[38;5;241m.\u001b[39mdata[\u001b[38;5;241m0\u001b[39m]\u001b[38;5;241m.\u001b[39membedding\n\u001b[0;32m     10\u001b[0m     processed_data\u001b[38;5;241m.\u001b[39mappend({\n\u001b[0;32m     11\u001b[0m         \u001b[38;5;124m\"\u001b[39m\u001b[38;5;124mvalues\u001b[39m\u001b[38;5;124m\"\u001b[39m: embedding,\n\u001b[0;32m     12\u001b[0m         \u001b[38;5;124m\"\u001b[39m\u001b[38;5;124mid\u001b[39m\u001b[38;5;124m\"\u001b[39m: review[\u001b[38;5;124m\"\u001b[39m\u001b[38;5;124mprofessor\u001b[39m\u001b[38;5;124m\"\u001b[39m],\n\u001b[1;32m   (...)\u001b[0m\n\u001b[0;32m     17\u001b[0m         }\n\u001b[0;32m     18\u001b[0m     })\n",
      "\u001b[1;31mKeyError\u001b[0m: 'review'"
     ]
    }
   ],
   "source": [
    "processed_data =[]\n",
    "client = OpenAI()\n",
    "\n",
    "for review in data['reviews']:\n",
    "    response = client.embeddings.create(\n",
    "        input= review['review'],\n",
    "        model= \"text-embedding-3-small\"\n",
    "    )\n",
    "    embedding=response.data[0].embedding\n",
    "    processed_data.append({\n",
    "        \"values\": embedding,\n",
    "        \"id\": review[\"professor\"],\n",
    "        \"metadata\": {\n",
    "            \"review\":review[\"review\"],\n",
    "            \"subject\":review[\"subject\"],\n",
    "            \"stars\":review[\"stars\"],\n",
    "        }\n",
    "    })"
   ]
  }
 ],
 "metadata": {
  "kernelspec": {
   "display_name": "Python 3",
   "language": "python",
   "name": "python3"
  },
  "language_info": {
   "codemirror_mode": {
    "name": "ipython",
    "version": 3
   },
   "file_extension": ".py",
   "mimetype": "text/x-python",
   "name": "python",
   "nbconvert_exporter": "python",
   "pygments_lexer": "ipython3",
   "version": "3.12.4"
  }
 },
 "nbformat": 4,
 "nbformat_minor": 2
}
